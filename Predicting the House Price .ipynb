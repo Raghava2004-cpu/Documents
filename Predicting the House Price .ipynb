{
  "nbformat": 4,
  "nbformat_minor": 0,
  "metadata": {
    "colab": {
      "private_outputs": true,
      "provenance": [],
      "authorship_tag": "ABX9TyOPtRle0PuQjmGKIaYU5ROC",
      "include_colab_link": true
    },
    "kernelspec": {
      "name": "python3",
      "display_name": "Python 3"
    },
    "language_info": {
      "name": "python"
    }
  },
  "cells": [
    {
      "cell_type": "markdown",
      "metadata": {
        "id": "view-in-github",
        "colab_type": "text"
      },
      "source": [
        "<a href=\"https://colab.research.google.com/github/Raghava2004-cpu/PROJECTFILES/blob/main/Predicting%20the%20House%20Price%20.ipynb\" target=\"_parent\"><img src=\"https://colab.research.google.com/assets/colab-badge.svg\" alt=\"Open In Colab\"/></a>"
      ]
    },
    {
      "cell_type": "code",
      "execution_count": null,
      "metadata": {
        "id": "vmiS01gP04XM",
        "collapsed": true
      },
      "outputs": [],
      "source": [
        "import numpy as np\n",
        "import pandas as pd\n",
        "import matplotlib.pyplot as plt\n",
        "import seaborn as sns\n",
        "from sklearn.linear_model import LinearRegression , Lasso , Ridge\n",
        "from sklearn.preprocessing import PolynomialFeatures , LabelEncoder , StandardScaler\n",
        "from sklearn.pipeline import Pipeline\n",
        "from sklearn.svm import SVR\n",
        "from sklearn.tree import DecisionTreeRegressor , plot_tree\n",
        "from sklearn.metrics import *\n",
        "from sklearn.model_selection import train_test_split\n",
        "from sklearn.ensemble import RandomForestRegressor\n",
        "\n",
        "dataset = pd.read_csv(\"/content/Real estate valuation data set.csv\")\n",
        "dataset.head()"
      ]
    },
    {
      "cell_type": "code",
      "source": [
        "dataset['X5 latitude'].min()\n",
        "print(dataset['X5 latitude'].max())"
      ],
      "metadata": {
        "id": "WNdz-qOl5nWA"
      },
      "execution_count": null,
      "outputs": []
    },
    {
      "cell_type": "code",
      "source": [
        "dataset.info()"
      ],
      "metadata": {
        "collapsed": true,
        "id": "-cVNm0l26J3W"
      },
      "execution_count": null,
      "outputs": []
    },
    {
      "cell_type": "code",
      "source": [
        "dataset.describe()"
      ],
      "metadata": {
        "collapsed": true,
        "id": "hswI9BZ76Owc"
      },
      "execution_count": null,
      "outputs": []
    },
    {
      "cell_type": "code",
      "source": [
        "dataset.isnull().sum()"
      ],
      "metadata": {
        "collapsed": true,
        "id": "Tw1JGRSL6XN9"
      },
      "execution_count": null,
      "outputs": []
    },
    {
      "cell_type": "code",
      "source": [
        "dataset.drop(['No' , 'X1 transaction date' , 'X5 latitude' , 'X6 longitude' ], axis = 'columns', inplace = True)"
      ],
      "metadata": {
        "id": "TbPDVz-569JX"
      },
      "execution_count": null,
      "outputs": []
    },
    {
      "cell_type": "code",
      "source": [
        "dataset.head()"
      ],
      "metadata": {
        "id": "g5Dr__Q07eRu"
      },
      "execution_count": null,
      "outputs": []
    },
    {
      "cell_type": "code",
      "source": [
        "X = dataset.iloc[: , :-1]\n",
        "Y = dataset.iloc[: , -1]\n"
      ],
      "metadata": {
        "id": "hocRlNu97k5h"
      },
      "execution_count": null,
      "outputs": []
    },
    {
      "cell_type": "code",
      "source": [
        "from sklearn.model_selection import train_test_split\n",
        "X_train , X_test , Y_train , Y_test = train_test_split(X , Y , test_size = 0.25 , random_state = 42)\n",
        "X_train"
      ],
      "metadata": {
        "collapsed": true,
        "id": "KDIrc9zw8iDL"
      },
      "execution_count": null,
      "outputs": []
    },
    {
      "cell_type": "code",
      "source": [
        "from sklearn.ensemble import RandomForestRegressor\n",
        "\n",
        "rfmodel = RandomForestRegressor(random_state = 42)\n",
        "rfmodel.fit(X_train , Y_train)"
      ],
      "metadata": {
        "id": "XrKDuH1J_qVL"
      },
      "execution_count": null,
      "outputs": []
    },
    {
      "cell_type": "code",
      "source": [
        "predicted = rfmodel.predict(X_test)\n",
        "print(r2_score(Y_test , predicted))"
      ],
      "metadata": {
        "id": "yioqZoQlAIez"
      },
      "execution_count": null,
      "outputs": []
    },
    {
      "cell_type": "code",
      "source": [
        "result = pd.DataFrame({\n",
        "     \"Actual \" : Y_test,\n",
        "     'Predicted' : predicted\n",
        "})\n",
        "result.head()"
      ],
      "metadata": {
        "id": "kON0rLLEAoa9"
      },
      "execution_count": null,
      "outputs": []
    },
    {
      "cell_type": "code",
      "source": [
        "from sklearn.tree import plot_tree\n",
        "\n",
        "plot_result = rfmodel.estimators_[2]\n",
        "plt.figure(figsize = (10,10))\n",
        "plot_tree(plot_result,filled = True)"
      ],
      "metadata": {
        "collapsed": true,
        "id": "FIvN9DX1Dic-"
      },
      "execution_count": null,
      "outputs": []
    },
    {
      "cell_type": "code",
      "source": [
        "dataset.head()"
      ],
      "metadata": {
        "id": "pep45pvbEL9a"
      },
      "execution_count": null,
      "outputs": []
    },
    {
      "cell_type": "code",
      "source": [
        "from sklearn.preprocessing import StandardScaler\n",
        "\n",
        "scale = StandardScaler()\n",
        "x_train = scale.fit_transform(X_train)\n",
        "x_test = scale.transform(X_test)\n"
      ],
      "metadata": {
        "id": "RIJfcRlUEP56"
      },
      "execution_count": null,
      "outputs": []
    },
    {
      "cell_type": "code",
      "source": [
        "rfmodel2 = RandomForestRegressor()\n",
        "rfmodel2.fit(x_train , Y_train)"
      ],
      "metadata": {
        "id": "eGKyUDiyEtrx"
      },
      "execution_count": null,
      "outputs": []
    },
    {
      "cell_type": "code",
      "source": [
        "y_pred = rfmodel2.predict(x_test)\n",
        "print(r2_score(Y_test , y_pred))"
      ],
      "metadata": {
        "id": "xskzqU35E53H"
      },
      "execution_count": null,
      "outputs": []
    },
    {
      "cell_type": "code",
      "source": [
        "newdf = pd.DataFrame({\n",
        "    \"Actual After scaling \" : Y_test,\n",
        "    \"Predicted after scaling\" : y_pred\n",
        "})\n",
        "newdf.head()"
      ],
      "metadata": {
        "id": "zd2FJvyHFpb_"
      },
      "execution_count": null,
      "outputs": []
    },
    {
      "cell_type": "markdown",
      "source": [
        "scaling the data has better results than non scaling"
      ],
      "metadata": {
        "id": "qZvLBd5YGFX8"
      }
    },
    {
      "cell_type": "code",
      "source": [
        "plt.scatter(Y_test , y_pred , color = 'red', edgecolor = 'black' , alpha = 0.99)\n"
      ],
      "metadata": {
        "id": "WP5NKsVqGM24"
      },
      "execution_count": null,
      "outputs": []
    }
  ]
}