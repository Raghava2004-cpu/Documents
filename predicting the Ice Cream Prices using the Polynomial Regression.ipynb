{
  "nbformat": 4,
  "nbformat_minor": 0,
  "metadata": {
    "colab": {
      "private_outputs": true,
      "provenance": [],
      "gpuType": "T4",
      "authorship_tag": "ABX9TyOUWhUCHybQgfXaOU5IYsir",
      "include_colab_link": true
    },
    "kernelspec": {
      "name": "python3",
      "display_name": "Python 3"
    },
    "language_info": {
      "name": "python"
    },
    "accelerator": "GPU"
  },
  "cells": [
    {
      "cell_type": "markdown",
      "metadata": {
        "id": "view-in-github",
        "colab_type": "text"
      },
      "source": [
        "<a href=\"https://colab.research.google.com/github/Raghava2004-cpu/PROJECTFILES/blob/main/predicting%20the%20Ice%20Cream%20Prices%20using%20the%20Polynomial%20Regression.ipynb\" target=\"_parent\"><img src=\"https://colab.research.google.com/assets/colab-badge.svg\" alt=\"Open In Colab\"/></a>"
      ]
    },
    {
      "cell_type": "code",
      "source": [
        "import numpy as np\n",
        "import pandas as pd\n",
        "import matplotlib.pyplot as plt\n",
        "from sklearn.linear_model import LinearRegression , Lasso , Ridge\n",
        "from sklearn.model_selection import train_test_split\n",
        "from sklearn.metrics import mean_squared_error , mean_absolute_error , r2_score\n",
        "from sklearn.preprocessing import PolynomialFeatures\n",
        "from sklearn.pipeline import Pipeline\n",
        "\n",
        "#now we do an example of polynomial regression\n",
        "icecream_file = pd.read_csv('/content/Ice_cream selling data.csv')\n",
        "icecream_file.drop_duplicates()\n",
        "poly_model = Pipeline([\n",
        "     ('polynomial' , PolynomialFeatures(degree = 4)),\n",
        "     ('linear' , LinearRegression())\n",
        "])\n",
        "x = icecream_file[['Temperature']]\n",
        "y = icecream_file['Ice Cream Sales (units)']\n",
        "x_train , x_test , y_train , y_test = train_test_split(x , y, test_size = 0.2 , random_state = 10)\n",
        "poly_model.fit(x_train , y_train)\n",
        "poly_model.predict(x_test)"
      ],
      "metadata": {
        "id": "UHKoHYY66qvT"
      },
      "execution_count": null,
      "outputs": []
    },
    {
      "cell_type": "code",
      "source": [
        "plt.scatter(icecream_file['Temperature'] , icecream_file['Ice Cream Sales (units)'] , color = 'red' , edgecolor = 'black', alpha = 0.99)\n",
        "predictedline = poly_model.predict(icecream_file[['Temperature']])\n",
        "plt.plot(icecream_file['Temperature'] , predictedline , color = 'blue')"
      ],
      "metadata": {
        "id": "SdSaKOLD9h6T"
      },
      "execution_count": null,
      "outputs": []
    },
    {
      "cell_type": "code",
      "source": [
        "ypred = poly_model.predict(x_test)\n",
        "print(mean_squared_error(y_test , ypred))\n",
        "print(mean_absolute_error(y_test , ypred))\n",
        "print(r2_score(y_test , ypred))"
      ],
      "metadata": {
        "id": "U5DvGzpR_MOz"
      },
      "execution_count": null,
      "outputs": []
    }
  ]
}