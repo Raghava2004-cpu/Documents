{
  "nbformat": 4,
  "nbformat_minor": 0,
  "metadata": {
    "colab": {
      "private_outputs": true,
      "provenance": [],
      "authorship_tag": "ABX9TyPIMnprtz8K5zNdDRhNGJqh",
      "include_colab_link": true
    },
    "kernelspec": {
      "name": "python3",
      "display_name": "Python 3"
    },
    "language_info": {
      "name": "python"
    }
  },
  "cells": [
    {
      "cell_type": "markdown",
      "metadata": {
        "id": "view-in-github",
        "colab_type": "text"
      },
      "source": [
        "<a href=\"https://colab.research.google.com/github/Raghava2004-cpu/PROJECTFILES/blob/main/Predicting%20the%20Salaries%20using%20Linear%20Regression(Lasso%20%2C%20Ridge).ipynb\" target=\"_parent\"><img src=\"https://colab.research.google.com/assets/colab-badge.svg\" alt=\"Open In Colab\"/></a>"
      ]
    },
    {
      "cell_type": "code",
      "source": [
        "import numpy as np\n",
        "import pandas as pd\n",
        "import matplotlib.pyplot as plt\n",
        "from sklearn.linear_model import LinearRegression , Lasso\n",
        "from sklearn.model_selection import train_test_split\n",
        "from sklearn.metrics import mean_squared_error , mean_absolute_error , r2_score\n",
        "\n",
        "salarydataframe = pd.read_csv('/content/Salary_Data.csv')\n",
        "#salarydataframe.drop_duplicates()\n",
        "#salarydataframe.dropna()\n",
        "plt.scatter(salarydataframe['YearsExperience'] , salarydataframe['Salary'] , color = 'red' , edgecolor = 'black' , alpha = 1)\n",
        "linear = LinearRegression()\n",
        "x = salarydataframe[['YearsExperience']]\n",
        "y = salarydataframe['Salary']\n",
        "x_train , x_test , y_train , y_test = train_test_split(x , y , test_size = 0.2, random_state = 2)\n",
        "linear.fit(x_train , y_train)\n",
        "predictedline = linear.predict(x_train)\n",
        "plt.plot(x_train , predictedline , color = 'blue', linewidth = 0.5)\n",
        "ypred = linear.predict(x_test)\n",
        "ypred"
      ],
      "metadata": {
        "id": "KRzGXE8UP5in"
      },
      "execution_count": null,
      "outputs": []
    },
    {
      "cell_type": "code",
      "source": [
        "linear.coef_"
      ],
      "metadata": {
        "id": "x8oE3dmLTnMS"
      },
      "execution_count": null,
      "outputs": []
    },
    {
      "cell_type": "code",
      "source": [
        "y_pred = linear.predict(x_test)\n",
        "mse = mean_squared_error(y_test , y_pred)\n",
        "print(mse)\n",
        "mae = mean_absolute_error(y_test , y_pred)\n",
        "print(mae)\n",
        "r2_scre = r2_score(y_test , y_pred)\n",
        "print(r2_scre)"
      ],
      "metadata": {
        "id": "Ze_nibvgs2bW"
      },
      "execution_count": null,
      "outputs": []
    },
    {
      "cell_type": "code",
      "source": [
        "from sklearn.linear_model import Lasso\n",
        "lasso_model = Lasso(alpha = 0.1)\n",
        "lasso_model.fit(x_train , y_train)\n",
        "ypred = lasso_model.predict(x_test)\n",
        "r2sc = r2_score(y_test , ypred)\n",
        "mse = mean_squared_error(y_test , ypred)\n",
        "mae = mean_absolute_error(y_test , ypred)\n",
        "r2 = r2_score(y_test , ypred)\n",
        "print(f\"mse : {mse} , mae : {mae}  , r2_score  : {r2}\")\n",
        "print(lasso_model.coef_)\n",
        "predline = lasso_model.predict(x_train)"
      ],
      "metadata": {
        "id": "iBTZ9wmBtr45"
      },
      "execution_count": null,
      "outputs": []
    },
    {
      "cell_type": "code",
      "source": [
        "plt.scatter(salarydataframe['YearsExperience'] , salarydataframe['Salary'] , color = 'red' , edgecolor = 'black' , alpha = 1)\n",
        "plt.plot(x_train ,predline , color = 'blue' , linewidth = 1 )"
      ],
      "metadata": {
        "id": "BR-CXLhX7Cl9"
      },
      "execution_count": null,
      "outputs": []
    },
    {
      "cell_type": "markdown",
      "source": [
        "MSE is the average of the squared distances  actual and predicted values** Lower MSE**: Indicates that the predictions are closer to the actual values, meaning the model is performing well.\n",
        "**Higher MSE**: Suggests that the model's predictions are not close to the actual values, indicating poor performance.\n",
        "Good Model:\n",
        "Low MSE and MAE relative to the scale of your target variable.\n",
        "High R² score (close to 1).\n",
        "Poor Model:\n",
        "High MSE and MAE.\n",
        "Low or negative R² score."
      ],
      "metadata": {
        "id": "bY9y34gbwpiI"
      }
    },
    {
      "cell_type": "code",
      "source": [
        "from sklearn.linear_model import Ridge\n",
        "ridge_model = Ridge(alpha = 15)\n",
        "ridge_model.fit(x_train , y_train)\n",
        "ridge_model.predict(x_test)\n",
        "ypredi = ridge_model.predict(x_test)\n",
        "mse = mean_squared_error(y_test , ypredi)\n",
        "print(r2_score(y_test , ypredi))\n",
        "print(f\"MSE : {mse}\")\n",
        "print(f'MAE : {mean_absolute_error(y_test , ypredi)}')"
      ],
      "metadata": {
        "id": "0JWxkiu7vGo8"
      },
      "execution_count": null,
      "outputs": []
    },
    {
      "cell_type": "markdown",
      "source": [
        "by observing the results of lasso and ridge from the above dataset results ridge has more accuracy.."
      ],
      "metadata": {
        "id": "AeLpe3t0-3PB"
      }
    },
    {
      "cell_type": "code",
      "source": [
        "from sklearn.linear_model import LinearRegression\n",
        "from sklearn.model_selection import train_test_split\n",
        "from sklearn.metrics import mean_squared_error , mean_absolute_error , r2_score\n",
        "from sklearn.preprocessing import PolynomialFeatures\n",
        "from sklearn.pipeline import Pipeline\n",
        "\n",
        "new = pd.read_csv('/content/Salary_Data.csv')\n",
        "poly_model = Pipeline([\n",
        "     ('Polynomial' , PolynomialFeatures(degree = 4)),\n",
        "     ('linearregression' , LinearRegression())\n",
        "])\n",
        "x = new[['YearsExperience']]\n",
        "y = new['Salary']\n",
        "x_train , x_test , y_train , y_test = train_test_split(x , y , test_size = 0.2 , random_state = 2)\n",
        "poly_model.fit(x_train , y_train)\n",
        "plt.scatter(new['YearsExperience'] , new['Salary'] ,color = 'red' , edgecolor = 'black' , alpha = 0.99)\n",
        "predline = poly_model.predict(new[['YearsExperience']])\n",
        "plt.plot(new['YearsExperience'] , predline , color = 'green')"
      ],
      "metadata": {
        "id": "SZhOSihSOke3"
      },
      "execution_count": null,
      "outputs": []
    },
    {
      "cell_type": "code",
      "source": [
        "y_pred = poly_model.predict(x_test)\n",
        "print(r2_score(y_test , y_pred))"
      ],
      "metadata": {
        "id": "tUGI-pKhSHYF"
      },
      "execution_count": null,
      "outputs": []
    }
  ]
}