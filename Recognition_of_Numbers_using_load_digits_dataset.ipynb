{
  "nbformat": 4,
  "nbformat_minor": 0,
  "metadata": {
    "colab": {
      "private_outputs": true,
      "provenance": [],
      "authorship_tag": "ABX9TyNbkfvdJpd71S8PnSmMkl8o",
      "include_colab_link": true
    },
    "kernelspec": {
      "name": "python3",
      "display_name": "Python 3"
    },
    "language_info": {
      "name": "python"
    }
  },
  "cells": [
    {
      "cell_type": "markdown",
      "metadata": {
        "id": "view-in-github",
        "colab_type": "text"
      },
      "source": [
        "<a href=\"https://colab.research.google.com/github/Raghava2004-cpu/PROJECTFILES/blob/main/Recognition_of_Numbers_using_load_digits_dataset.ipynb\" target=\"_parent\"><img src=\"https://colab.research.google.com/assets/colab-badge.svg\" alt=\"Open In Colab\"/></a>"
      ]
    },
    {
      "cell_type": "markdown",
      "source": [
        "I am implementing the NUMBER RECOGNITION MODEL using the load_digits dataset From the sklearn"
      ],
      "metadata": {
        "id": "-lvTuD98d6d-"
      }
    },
    {
      "cell_type": "code",
      "execution_count": null,
      "metadata": {
        "id": "EU_xwvWTd0q0"
      },
      "outputs": [],
      "source": [
        "import pandas as pd\n",
        "import numpy as np\n",
        "import matplotlib.pyplot as plt\n",
        "%matplotlib inline\n",
        "import seaborn as sns\n",
        "from sklearn.datasets import load_digits\n",
        "\n",
        "digits = load_digits()                                 #imported the load_digits data to digits(variable)\n",
        "print(digits.data[0])               #gives the 1-d array of that particular digit matrix"
      ]
    },
    {
      "cell_type": "code",
      "source": [
        "print(f\"Size of the data(X) :  {digits.data.shape}\")\n",
        "print(f\"Size of the Target (Y) : {digits.target.shape}\")"
      ],
      "metadata": {
        "id": "EYgQ6l2-g1B3"
      },
      "execution_count": null,
      "outputs": []
    },
    {
      "cell_type": "markdown",
      "source": [
        "To get the image of the digits we can use the matplotlib"
      ],
      "metadata": {
        "id": "KskRyGu7gNOd"
      }
    },
    {
      "cell_type": "code",
      "source": [
        "plt.gray()\n",
        "plt.matshow(digits.images[25])          # prints the image of number which is at position at 25\n",
        "plt.show()"
      ],
      "metadata": {
        "id": "JEZ9uD8DgU6K"
      },
      "execution_count": null,
      "outputs": []
    },
    {
      "cell_type": "markdown",
      "source": [
        "Splitting the dataset into train_data and test_data"
      ],
      "metadata": {
        "id": "01Pnsdpuhut-"
      }
    },
    {
      "cell_type": "code",
      "source": [
        "from sklearn.model_selection import train_test_split\n",
        "\n",
        "x = digits.data\n",
        "y = digits.target\n",
        "x_train , x_test , y_train , y_test = train_test_split(x ,y , test_size = 0.2 , random_state = 42)"
      ],
      "metadata": {
        "id": "-BQLD7mXhz7_"
      },
      "execution_count": null,
      "outputs": []
    },
    {
      "cell_type": "markdown",
      "source": [
        "Importing the LogisticRegression and training the model"
      ],
      "metadata": {
        "id": "ezDFUShLiQuh"
      }
    },
    {
      "cell_type": "code",
      "source": [
        "from sklearn.linear_model import LogisticRegression\n",
        "\n",
        "model = LogisticRegression(multi_class = 'multinomial' , solver = 'lbfgs' , max_iter = 200)\n",
        "model.fit(x_train  , y_train)"
      ],
      "metadata": {
        "id": "cnWJF8bGiV-7"
      },
      "execution_count": null,
      "outputs": []
    },
    {
      "cell_type": "markdown",
      "source": [
        "Testing the data using the model"
      ],
      "metadata": {
        "id": "mXVr16_0ip9_"
      }
    },
    {
      "cell_type": "code",
      "source": [
        "predicted_result = model.predict(x_test)"
      ],
      "metadata": {
        "id": "_zg7uQOdit5A"
      },
      "execution_count": null,
      "outputs": []
    },
    {
      "cell_type": "markdown",
      "source": [
        "Calculating the Score of the Model"
      ],
      "metadata": {
        "id": "VvqNLWAyjRBQ"
      }
    },
    {
      "cell_type": "code",
      "source": [
        "from sklearn.metrics import accuracy_score , confusion_matrix , classification_report\n",
        "\n",
        "print(f\"Accuracy Score of Testing data : {accuracy_score(y_test , predicted_result)*100}\")\n",
        "print(f\"Confusion Matrix : {confusion_matrix(y_test , predicted_result)}\")\n",
        "print(f\"Classification Report : {classification_report(y_test , predicted_result)}\")"
      ],
      "metadata": {
        "id": "NmEIYHt8jUM0"
      },
      "execution_count": null,
      "outputs": []
    },
    {
      "cell_type": "markdown",
      "source": [
        "Visualizing the confusion matrix using the seaborn"
      ],
      "metadata": {
        "id": "3JLDTHpylgOT"
      }
    },
    {
      "cell_type": "code",
      "source": [
        "cn = confusion_matrix(y_test , predicted_result)\n",
        "plt.figure(figsize = (8,5))\n",
        "sns.heatmap(cn , annot = True , linewidth = 0.5)\n",
        "plt.show()"
      ],
      "metadata": {
        "id": "dq2_wCSZlmZ1"
      },
      "execution_count": null,
      "outputs": []
    },
    {
      "cell_type": "markdown",
      "source": [
        "printing the intercepts and coef of the of model each individual digit has its own intercept and coef(weights)"
      ],
      "metadata": {
        "id": "pmDvVq2Dmezi"
      }
    },
    {
      "cell_type": "code",
      "source": [
        "print(model.intercept_.shape)\n",
        "print(model.coef_.shape)"
      ],
      "metadata": {
        "id": "P9TenJK-mv_s"
      },
      "execution_count": null,
      "outputs": []
    },
    {
      "cell_type": "markdown",
      "source": [
        "Printing the intercept and weights of digit '0'.... In this way we can print intercepts and weights of number(0-9)"
      ],
      "metadata": {
        "id": "fE8cEgmNnik1"
      }
    },
    {
      "cell_type": "code",
      "source": [
        "print(model.intercept_[0])\n",
        "print(model.coef_[0])"
      ],
      "metadata": {
        "id": "Yx2Yqj-PmFwV"
      },
      "execution_count": null,
      "outputs": []
    }
  ]
}